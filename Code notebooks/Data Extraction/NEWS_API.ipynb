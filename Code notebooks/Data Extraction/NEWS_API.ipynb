{
 "cells": [
  {
   "cell_type": "code",
   "execution_count": 1,
   "id": "92b70ff2",
   "metadata": {},
   "outputs": [],
   "source": [
    "import requests\n",
    "import pandas as pd\n",
    "from urllib.parse import urlencode"
   ]
  },
  {
   "cell_type": "code",
   "execution_count": 2,
   "id": "2960653c",
   "metadata": {},
   "outputs": [],
   "source": [
    "api_url = \"https://newsapi.org/v2/everything\""
   ]
  },
  {
   "cell_type": "code",
   "execution_count": 3,
   "id": "f6275b9a",
   "metadata": {},
   "outputs": [],
   "source": [
    "API_key = 'f358231e1ff14946918a8aee9847031d'"
   ]
  },
  {
   "cell_type": "code",
   "execution_count": 5,
   "id": "f05c185b",
   "metadata": {},
   "outputs": [],
   "source": [
    "params = {\n",
    "    'q': \"car crash\",\n",
    "    'from': '2023-02-06', \n",
    "    'to': '2024-02-06',    \n",
    "    'sources': 'bbc-news',\n",
    "    'pageSize': 100,\n",
    "    'apiKey': 'f358231e1ff14946918a8aee9847031d',\n",
    "    #'qInTitle=Georgetown&'\n",
    "    'country': 'us'\n",
    "}"
   ]
  },
  {
   "cell_type": "code",
   "execution_count": 6,
   "id": "897a87cd",
   "metadata": {},
   "outputs": [],
   "source": [
    "url_with_params = f\"{api_url}?{urlencode(params)}\""
   ]
  },
  {
   "cell_type": "code",
   "execution_count": 7,
   "id": "6d83dbd2",
   "metadata": {},
   "outputs": [],
   "source": [
    "response = requests.get(url_with_params)"
   ]
  },
  {
   "cell_type": "code",
   "execution_count": 8,
   "id": "48eb6230",
   "metadata": {},
   "outputs": [],
   "source": [
    "data = response.json()"
   ]
  },
  {
   "cell_type": "code",
   "execution_count": 9,
   "id": "3ba54438",
   "metadata": {},
   "outputs": [
    {
     "data": {
      "text/plain": [
       "{'status': 'error',\n",
       " 'code': 'parameterInvalid',\n",
       " 'message': 'You are trying to request results too far in the past. Your plan permits you to request articles as far back as 2024-01-06, but you have requested 2023-02-06. You may need to upgrade to a paid plan.'}"
      ]
     },
     "execution_count": 9,
     "metadata": {},
     "output_type": "execute_result"
    }
   ],
   "source": [
    "data"
   ]
  },
  {
   "cell_type": "code",
   "execution_count": 20,
   "id": "c79aa2cd",
   "metadata": {},
   "outputs": [],
   "source": [
    "params = {\n",
    "    'q': \"car crash\",\n",
    "    'from': '2024-01-07', \n",
    "    'to': '2024-02-06',    \n",
    "    'sources': 'bbc-news',\n",
    "    'pageSize': 100,\n",
    "    'apiKey': 'f358231e1ff14946918a8aee9847031d'\n",
    "    #'qInTitle=Georgetown&'\n",
    "    #'country': 'us'\n",
    "}"
   ]
  },
  {
   "cell_type": "code",
   "execution_count": 21,
   "id": "6324ce83",
   "metadata": {},
   "outputs": [],
   "source": [
    "url_with_params = f\"{api_url}?{urlencode(params)}\""
   ]
  },
  {
   "cell_type": "code",
   "execution_count": 22,
   "id": "743ea690",
   "metadata": {},
   "outputs": [],
   "source": [
    "response = requests.get(url_with_params)"
   ]
  },
  {
   "cell_type": "code",
   "execution_count": 23,
   "id": "b8c78d6f",
   "metadata": {},
   "outputs": [],
   "source": [
    "data = response.json()"
   ]
  },
  {
   "cell_type": "code",
   "execution_count": 25,
   "id": "3046d231",
   "metadata": {},
   "outputs": [
    {
     "data": {
      "text/plain": [
       "57"
      ]
     },
     "execution_count": 25,
     "metadata": {},
     "output_type": "execute_result"
    }
   ],
   "source": [
    "data['totalResults']"
   ]
  },
  {
   "cell_type": "markdown",
   "id": "db79abf2",
   "metadata": {},
   "source": [
    "### Again only 57 results are obtained due to restrictions of free version. Moreover, there is not very much useful information for my analysis."
   ]
  }
 ],
 "metadata": {
  "kernelspec": {
   "display_name": "Python 3 (ipykernel)",
   "language": "python",
   "name": "python3"
  },
  "language_info": {
   "codemirror_mode": {
    "name": "ipython",
    "version": 3
   },
   "file_extension": ".py",
   "mimetype": "text/x-python",
   "name": "python",
   "nbconvert_exporter": "python",
   "pygments_lexer": "ipython3",
   "version": "3.11.5"
  }
 },
 "nbformat": 4,
 "nbformat_minor": 5
}
